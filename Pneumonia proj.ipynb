{
 "cells": [
  {
   "cell_type": "code",
   "execution_count": 6,
   "metadata": {
    "execution": {
     "iopub.execute_input": "2023-11-11T11:29:30.423040Z",
     "iopub.status.busy": "2023-11-11T11:29:30.422277Z",
     "iopub.status.idle": "2023-11-11T11:29:30.444436Z",
     "shell.execute_reply": "2023-11-11T11:29:30.443447Z",
     "shell.execute_reply.started": "2023-11-11T11:29:30.422955Z"
    }
   },
   "outputs": [],
   "source": [
    "import matplotlib.pyplot as plt\n",
    "import tensorflow as tf \n",
    "from tensorflow import keras \n",
    "from tensorflow.keras.models import Sequential\n",
    "from tensorflow.keras.layers import Dense, Activation, Conv2D, MaxPooling2D, Flatten, Dropout, BatchNormalization\n",
    "from tensorflow.keras.optimizers import Adam\n",
    "from tensorflow.keras.callbacks import EarlyStopping\n",
    "from tensorflow.keras.preprocessing.image import ImageDataGenerator\n",
    "from sklearn.metrics import precision_recall_curve, roc_curve, accuracy_score, confusion_matrix, precision_score, recall_score\n",
    "from sklearn.decomposition import PCA\n",
    "from sklearn.model_selection import train_test_split\n",
    "import matplotlib.pyplot as plt \n",
    "import seaborn as sns \n",
    "plt.style.use('fivethirtyeight')\n",
    "import pickle \n",
    "import os \n",
    "import numpy as np\n",
    "import cv2 \n",
    "%matplotlib inline"
   ]
  },
  {
   "cell_type": "code",
   "execution_count": 7,
   "metadata": {
    "_cell_guid": "79c7e3d0-c299-4dcb-8224-4455121ee9b0",
    "_uuid": "d629ff2d2480ee46fbb7e2d37f6b5fab8052498a",
    "execution": {
     "iopub.execute_input": "2023-11-11T11:29:30.447891Z",
     "iopub.status.busy": "2023-11-11T11:29:30.447399Z",
     "iopub.status.idle": "2023-11-11T11:29:30.461223Z",
     "shell.execute_reply": "2023-11-11T11:29:30.460151Z",
     "shell.execute_reply.started": "2023-11-11T11:29:30.447837Z"
    }
   },
   "outputs": [],
   "source": [
    "categories = ['PNEUMONIA', 'NORMAL']\n",
    "image_size = 200\n",
    "\n",
    "def get_training_data(data_directory):\n",
    "    data = [] \n",
    "    for category in categories: \n",
    "        path = os.path.join(data_directory, category)\n",
    "        class_num = categories.index(category)\n",
    "        for image in os.listdir(path):\n",
    "            try:\n",
    "                image_array = cv2.imread(os.path.join(path, image), cv2.IMREAD_GRAYSCALE)\n",
    "                resized_array = cv2.resize(image_array, (image_size, image_size))\n",
    "                data.append([resized_array, class_num])\n",
    "            except Exception as e:\n",
    "                print(e)\n",
    "    return np.array(data)\n"
   ]
  },
  {
   "cell_type": "code",
   "execution_count": null,
   "metadata": {
    "execution": {
     "iopub.execute_input": "2023-11-11T11:29:30.463534Z",
     "iopub.status.busy": "2023-11-11T11:29:30.463127Z",
     "iopub.status.idle": "2023-11-11T11:30:34.819046Z",
     "shell.execute_reply": "2023-11-11T11:30:34.817829Z",
     "shell.execute_reply.started": "2023-11-11T11:29:30.463477Z"
    }
   },
   "outputs": [],
   "source": [
    "training_data = get_training_data(r'C:\\Users\\anany\\Downloads\\archive\\chest_xray\\train')\n",
    "testing_data = get_training_data(r'C:\\Users\\anany\\Downloads\\archive\\chest_xray\\train')\n"
   ]
  },
  {
   "cell_type": "code",
   "execution_count": null,
   "metadata": {
    "execution": {
     "iopub.execute_input": "2023-11-11T11:30:34.821794Z",
     "iopub.status.busy": "2023-11-11T11:30:34.821242Z",
     "iopub.status.idle": "2023-11-11T11:30:34.839409Z",
     "shell.execute_reply": "2023-11-11T11:30:34.838184Z",
     "shell.execute_reply.started": "2023-11-11T11:30:34.821694Z"
    }
   },
   "outputs": [],
   "source": [
    "pneumonia_count = 0 \n",
    "normal_count = 0 \n",
    "\n",
    "for image, label in training_data:\n",
    "    if label == 0:\n",
    "        pneumonia_count += 1\n",
    "    else:\n",
    "        normal_count += 1\n",
    "        \n",
    "print('Pneumonia:', pneumonia_count)\n",
    "print('Normal:', normal_count)\n",
    "print('Pneumonia - Normal:', pneumonia_count - normal_count)\n"
   ]
  },
  {
   "cell_type": "code",
   "execution_count": null,
   "metadata": {
    "execution": {
     "iopub.execute_input": "2023-11-11T11:30:34.846675Z",
     "iopub.status.busy": "2023-11-11T11:30:34.846119Z",
     "iopub.status.idle": "2023-11-11T11:30:35.042458Z",
     "shell.execute_reply": "2023-11-11T11:30:35.041289Z",
     "shell.execute_reply.started": "2023-11-11T11:30:34.846588Z"
    }
   },
   "outputs": [],
   "source": [
    "plt.imshow(training_data[1][0], cmap='gray')\n",
    "plt.axis('off')\n",
    "plt.show()\n",
    "print(categories[training_data[1][1]])"
   ]
  },
  {
   "cell_type": "code",
   "execution_count": null,
   "metadata": {
    "execution": {
     "iopub.execute_input": "2023-11-11T11:30:35.045239Z",
     "iopub.status.busy": "2023-11-11T11:30:35.044624Z",
     "iopub.status.idle": "2023-11-11T11:30:35.319795Z",
     "shell.execute_reply": "2023-11-11T11:30:35.318501Z",
     "shell.execute_reply.started": "2023-11-11T11:30:35.045188Z"
    }
   },
   "outputs": [],
   "source": [
    "import numpy as np\n",
    "from sklearn.model_selection import train_test_split\n",
    "\n",
    "X_data = []\n",
    "y_data = []\n",
    "\n",
    "for feature, label in training_data:\n",
    "    X_data.append(feature)\n",
    "    y_data.append(label)\n",
    "\n",
    "for feature, label in testing_data:\n",
    "    X_data.append(feature)\n",
    "    y_data.append(label)\n",
    "    \n",
    "for feature, label in validation_data:\n",
    "    X_data.append(feature)\n",
    "    y_data.append(label)\n",
    "\n",
    "# Reshape data for deep learning \n",
    "X_data = np.array(X_data).reshape(-1, image_size, image_size, 1)\n",
    "y_data = np.array(y_data)\n",
    "\n",
    "# Split the data into training, testing, and validation sets\n",
    "X_train, X_test, y_train, y_test = train_test_split(X_data, y_data, test_size=0.2, random_state=32)\n",
    "X_train, X_val, y_train, y_val = train_test_split(X_train, y_train, test_size=0.20, random_state=32)\n"
   ]
  },
  {
   "cell_type": "code",
   "execution_count": null,
   "metadata": {
    "execution": {
     "iopub.execute_input": "2023-11-11T11:30:35.321999Z",
     "iopub.status.busy": "2023-11-11T11:30:35.321538Z",
     "iopub.status.idle": "2023-11-11T11:30:36.031654Z",
     "shell.execute_reply": "2023-11-11T11:30:36.030689Z",
     "shell.execute_reply.started": "2023-11-11T11:30:35.321934Z"
    }
   },
   "outputs": [],
   "source": [
    "X_train = X_train / 255.0\n",
    "X_test = X_test / 255.0\n",
    "X_val = X_val / 255.0\n"
   ]
  },
  {
   "cell_type": "code",
   "execution_count": null,
   "metadata": {
    "execution": {
     "iopub.execute_input": "2023-11-11T11:30:36.033389Z",
     "iopub.status.busy": "2023-11-11T11:30:36.032905Z",
     "iopub.status.idle": "2023-11-11T11:30:37.025388Z",
     "shell.execute_reply": "2023-11-11T11:30:37.024350Z",
     "shell.execute_reply.started": "2023-11-11T11:30:36.033345Z"
    }
   },
   "outputs": [],
   "source": [
    "datagen = ImageDataGenerator(\n",
    "    featurewise_center=False,\n",
    "    samplewise_center=False,\n",
    "    featurewise_std_normalization=False,\n",
    "    samplewise_std_normalization=False,\n",
    "    zca_whitening=False,\n",
    "    rotation_range=90,\n",
    "    zoom_range=0.1,\n",
    "    width_shift_range=0.1,\n",
    "    height_shift_range=0.1,\n",
    "    horizontal_flip=True,\n",
    "    vertical_flip=True\n",
    ")\n",
    "\n",
    "datagen.fit(X_train)\n"
   ]
  },
  {
   "cell_type": "code",
   "execution_count": null,
   "metadata": {
    "execution": {
     "iopub.execute_input": "2023-11-11T11:30:37.027292Z",
     "iopub.status.busy": "2023-11-11T11:30:37.026761Z",
     "iopub.status.idle": "2023-11-11T11:30:37.349977Z",
     "shell.execute_reply": "2023-11-11T11:30:37.348809Z",
     "shell.execute_reply.started": "2023-11-11T11:30:37.027246Z"
    }
   },
   "outputs": [],
   "source": [
    "model = Sequential()\n",
    "\n",
    "model.add(Conv2D(256, (3, 3), input_shape=X_train.shape[1:], padding='same'))\n",
    "model.add(Activation('relu'))\n",
    "model.add(MaxPooling2D(pool_size=(2, 2), padding='same'))\n",
    "model.add(BatchNormalization(axis=1))\n",
    "\n",
    "model.add(Conv2D(64, (3, 3), padding='same'))\n",
    "model.add(Activation('relu'))\n",
    "model.add(MaxPooling2D(pool_size=(2, 2), padding='same'))\n",
    "model.add(BatchNormalization(axis=1))\n",
    "\n",
    "model.add(Conv2D(16, (3, 3), padding='same'))\n",
    "model.add(Activation('relu'))\n",
    "model.add(MaxPooling2D(pool_size=(2, 2), padding='same'))\n",
    "model.add(BatchNormalization(axis=1))\n",
    "\n",
    "model.add(Flatten())\n",
    "\n",
    "model.add(Dropout(0.5))\n",
    "model.add(Dense(64))\n",
    "model.add(Activation('relu'))\n",
    "\n",
    "model.add(Dropout(0.5))\n",
    "model.add(Dense(1))\n",
    "model.add(Activation('sigmoid'))\n",
    "\n",
    "early_stop = EarlyStopping(patience=3, monitor='val_loss', restore_best_weights=True)\n",
    "adam = Adam(learning_rate=0.0001)\n",
    "model.compile(loss='binary_crossentropy', optimizer=adam, metrics=['acc'])"
   ]
  },
  {
   "cell_type": "code",
   "execution_count": null,
   "metadata": {
    "execution": {
     "iopub.execute_input": "2023-11-11T11:30:37.352176Z",
     "iopub.status.busy": "2023-11-11T11:30:37.351792Z",
     "iopub.status.idle": "2023-11-11T11:30:37.366181Z",
     "shell.execute_reply": "2023-11-11T11:30:37.364980Z",
     "shell.execute_reply.started": "2023-11-11T11:30:37.352128Z"
    }
   },
   "outputs": [],
   "source": [
    "model.summary()"
   ]
  },
  {
   "cell_type": "code",
   "execution_count": null,
   "metadata": {
    "execution": {
     "iopub.execute_input": "2023-11-11T11:30:37.371011Z",
     "iopub.status.busy": "2023-11-11T11:30:37.370585Z"
    }
   },
   "outputs": [],
   "source": [
    "history = model.fit(datagen.flow(X_train, y_train, batch_size=10),\n",
    "                    callbacks=[early_stop],\n",
    "                    validation_data=(X_val, y_val),\n",
    "                    epochs=2)\n"
   ]
  },
  {
   "cell_type": "code",
   "execution_count": null,
   "metadata": {},
   "outputs": [],
   "source": [
    "model.evaluate(X_test, y_test)"
   ]
  },
  {
   "cell_type": "code",
   "execution_count": null,
   "metadata": {},
   "outputs": [],
   "source": [
    "plt.figure(figsize=(16, 9))\n",
    "plt.plot(history.epoch, history.history['acc'])\n",
    "plt.title('Model Accuracy')\n",
    "plt.legend(['train'], loc='upper left')\n",
    "plt.show()\n",
    "\n",
    "plt.figure(figsize=(16, 9))\n",
    "plt.plot(history.epoch, history.history['loss'])\n",
    "plt.title('Model Loss')\n",
    "plt.legend(['train'], loc='upper left')\n",
    "plt.show()\n",
    "\n",
    "plt.figure(figsize=(16, 9))\n",
    "plt.plot(history.epoch, history.history['val_acc'])\n",
    "plt.title('Model Validation Accuracy')\n",
    "plt.legend(['train'], loc='upper left')\n",
    "plt.show()\n",
    "\n",
    "plt.figure(figsize=(16, 9))\n",
    "plt.plot(history.epoch, history.history['val_loss'])\n",
    "plt.title('Model Validation Loss')\n",
    "plt.legend(['train'], loc='upper left')\n",
    "plt.show()"
   ]
  },
  {
   "cell_type": "code",
   "execution_count": null,
   "metadata": {},
   "outputs": [],
   "source": [
    "pred = model.predict(X_train)\n",
    "precisions, recalls, thresholds = precision_recall_curve(y_train, pred)\n",
    "fpr, tpr, thresholds2 = roc_curve(y_train, pred)"
   ]
  },
  {
   "cell_type": "code",
   "execution_count": null,
   "metadata": {},
   "outputs": [],
   "source": [
    "def plot_precision_recall(precisions, recalls, thresholds):\n",
    "    plt.plot(thresholds, precisions[:-1], 'b--')\n",
    "    plt.plot(thresholds, recalls[:-1], 'g-')\n",
    "    plt.title('Precision vs. Recall')\n",
    "    plt.xlabel('Thresholds')\n",
    "    plt.legend(['Precision', 'Recall'], loc='best')\n",
    "    plt.show()\n",
    "\n",
    "def plot_roc(fpr, tpr):\n",
    "    plt.plot(fpr, tpr)\n",
    "    plt.plot([0, 1], [0, 1], 'k--')\n",
    "    plt.title('ROC Curve')\n",
    "    plt.xlabel('False Positive Rate')\n",
    "    plt.ylabel('True Positive Rate')\n",
    "    plt.show()\n",
    "\n",
    "plot_precision_recall(precisions, recalls, thresholds)\n",
    "plot_roc(fpr, tpr)"
   ]
  },
  {
   "cell_type": "code",
   "execution_count": null,
   "metadata": {},
   "outputs": [],
   "source": [
    "predictions = model.predict(X_test)"
   ]
  },
  {
   "cell_type": "code",
   "execution_count": null,
   "metadata": {},
   "outputs": [],
   "source": [
    "binary_predictions = []\n",
    "threshold = thresholds[np.argmax(precisions >= 0.80)]\n",
    "for i in pred:\n",
    "    if i >= threshold:\n",
    "        binary_predictions.append(1)\n",
    "    else:\n",
    "        binary_predictions.append(0)\n"
   ]
  },
  {
   "cell_type": "code",
   "execution_count": null,
   "metadata": {},
   "outputs": [],
   "source": [
    "print('Accuracy on testing set:', accuracy_score(binary_predictions, y_test))\n",
    "print('Precision on testing set:', precision_score(binary_predictions, y_test))\n",
    "print('Recall on testing set:', recall_score(binary_predictions, y_test))"
   ]
  },
  {
   "cell_type": "code",
   "execution_count": null,
   "metadata": {},
   "outputs": [],
   "source": [
    "matrix = confusion_matrix(binary_predictions, y_test)\n",
    "plt.figure(figsize=(16, 9))\n",
    "ax = plt.subplot()\n",
    "sns.heatmap(matrix, annot=True, ax=ax)\n",
    "\n",
    "# Labels, title, and ticks\n",
    "ax.set_xlabel('Predicted Labels', size=20)\n",
    "ax.set_ylabel('True Labels', size=20)\n",
    "ax.set_title('Confusion Matrix', size=20) \n",
    "ax.xaxis.set_ticklabels(categories)\n",
    "ax.yaxis.set_ticklabels(categories)\n",
    "\n",
    "plt.show()"
   ]
  },
  {
   "cell_type": "code",
   "execution_count": null,
   "metadata": {},
   "outputs": [],
   "source": [
    "plt.figure(figsize=(10,10))\n",
    "for i in range(25):\n",
    "    plt.subplot(5,5,i+1)\n",
    "    plt.xticks([])\n",
    "    plt.yticks([])\n",
    "    plt.grid(False)\n",
    "    plt.imshow(X_train.reshape(-1, img_size, img_size)[i], cmap='gray')\n",
    "    if(binary_predictions[i]==y_test[i]):\n",
    "        plt.xlabel(labels[binary_predictions[i]], color='blue')\n",
    "    else:\n",
    "        plt.xlabel(labels[binary_predictions[i]], color='red')\n",
    "plt.show()"
   ]
  },
  {
   "cell_type": "code",
   "execution_count": null,
   "metadata": {},
   "outputs": [],
   "source": [
    " model.save('pneumonia_detection_ids proj_3.h5')"
   ]
  }
 ],
 "metadata": {
  "kaggle": {
   "accelerator": "gpu",
   "dataSources": [
    {
     "datasetId": 17810,
     "sourceId": 23812,
     "sourceType": "datasetVersion"
    }
   ],
   "dockerImageVersionId": 29860,
   "isGpuEnabled": true,
   "isInternetEnabled": false,
   "language": "python",
   "sourceType": "notebook"
  },
  "kernelspec": {
   "display_name": "Python 3 (ipykernel)",
   "language": "python",
   "name": "python3"
  },
  "language_info": {
   "codemirror_mode": {
    "name": "ipython",
    "version": 3
   },
   "file_extension": ".py",
   "mimetype": "text/x-python",
   "name": "python",
   "nbconvert_exporter": "python",
   "pygments_lexer": "ipython3",
   "version": "3.11.5"
  }
 },
 "nbformat": 4,
 "nbformat_minor": 4
}
